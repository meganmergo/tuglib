{
 "cells": [
  {
   "cell_type": "code",
   "execution_count": 1,
   "metadata": {},
   "outputs": [],
   "source": [
    "%matplotlib inline"
   ]
  },
  {
   "cell_type": "code",
   "execution_count": 2,
   "metadata": {},
   "outputs": [],
   "source": [
    "from tuglib.io import FitsCollection, convert_to_fits\n",
    "from tuglib.reduction import bias_combine, flat_combine, ccdproc"
   ]
  },
  {
   "cell_type": "code",
   "execution_count": 3,
   "metadata": {},
   "outputs": [],
   "source": [
    "c = FitsCollection('/Users/oguzhan/tmp/20180901N/', gain=0.37, read_noise=4.11)"
   ]
  },
  {
   "cell_type": "code",
   "execution_count": 4,
   "metadata": {},
   "outputs": [],
   "source": [
    "masks = ['[:, 1023:1025]', '[:1023, 56:58]']\n",
    "trim = '[:, 24:2023]'"
   ]
  },
  {
   "cell_type": "code",
   "execution_count": 5,
   "metadata": {},
   "outputs": [],
   "source": [
    "bias_ccds = c.ccds(OBJECT='BIAS', trim=trim, masks=masks)\n",
    "flat_ccds = c.ccds(OBJECT='FLAT', FILTER='W1:03 V W2:00 Empty', trim=trim, masks=masks)"
   ]
  },
  {
   "cell_type": "code",
   "execution_count": 6,
   "metadata": {},
   "outputs": [
    {
     "name": "stderr",
     "output_type": "stream",
     "text": [
      "WARNING: VerifyWarning: Verification reported errors: [astropy.io.fits.verify]\n",
      "WARNING: VerifyWarning: Card 'WINDDIR' is not FITS standard (equal sign not at column 8).  Fixed 'WINDDIR' card to meet the FITS standard. [astropy.io.fits.verify]\n",
      "WARNING: VerifyWarning: Note: astropy.io.fits uses zero-based indexing.\n",
      " [astropy.io.fits.verify]\n",
      "WARNING: VerifyWarning: Card 'PID' is not FITS standard (equal sign not at column 8).  Fixed 'PID' card to meet the FITS standard. [astropy.io.fits.verify]\n",
      "WARNING: VerifyWarning: Card 'MYNOTES' is not FITS standard (equal sign not at column 8).  Fixed 'MYNOTES' card to meet the FITS standard. [astropy.io.fits.verify]\n",
      "WARNING: FITSFixedWarning: EPOCH = ' ' \n",
      "a floating-point value was expected. [astropy.wcs.wcs]\n"
     ]
    }
   ],
   "source": [
    "master_bias = bias_combine(bias_ccds, method='median')\n",
    "master_flat = flat_combine(flat_ccds, master_bias, method='median')"
   ]
  },
  {
   "cell_type": "code",
   "execution_count": 7,
   "metadata": {},
   "outputs": [],
   "source": [
    "filenames = c.files_filtered(OBJECT='V2477Cyg', FILTER='W1:03 V W2:00 Empty')\n",
    "sci_ccds = c.ccds(OBJECT='V2477Cyg', FILTER='W1:03 V W2:00 Empty', trim=trim, masks=masks)"
   ]
  },
  {
   "cell_type": "code",
   "execution_count": 8,
   "metadata": {},
   "outputs": [],
   "source": [
    "reduced_ccds = ccdproc(sci_ccds, master_bias=master_bias, master_flat=master_flat)"
   ]
  },
  {
   "cell_type": "code",
   "execution_count": 9,
   "metadata": {},
   "outputs": [
    {
     "name": "stderr",
     "output_type": "stream",
     "text": [
      "WARNING: VerifyWarning: Verification reported errors: [astropy.io.fits.verify]\n",
      "WARNING: VerifyWarning: Card 'WINDDIR' is not FITS standard (equal sign not at column 8).  Fixed 'WINDDIR' card to meet the FITS standard. [astropy.io.fits.verify]\n",
      "WARNING: VerifyWarning: Note: astropy.io.fits uses zero-based indexing.\n",
      " [astropy.io.fits.verify]\n",
      "WARNING: VerifyWarning: Card 'PID' is not FITS standard (equal sign not at column 8).  Fixed 'PID' card to meet the FITS standard. [astropy.io.fits.verify]\n",
      "WARNING: VerifyWarning: Card 'MYNOTES' is not FITS standard (equal sign not at column 8).  Fixed 'MYNOTES' card to meet the FITS standard. [astropy.io.fits.verify]\n",
      "WARNING: FITSFixedWarning: EPOCH = '2018.67 ' \n",
      "a floating-point value was expected. [astropy.wcs.wcs]\n",
      "/Users/oguzhan/workspace/PythonProjects/astro/venv/lib/python3.7/site-packages/astropy/units/quantity.py:463: RuntimeWarning: divide by zero encountered in true_divide\n",
      "  result = super().__array_ufunc__(function, method, *arrays, **kwargs)\n",
      "/Users/oguzhan/workspace/PythonProjects/astro/venv/lib/python3.7/site-packages/astropy/nddata/nduncertainty.py:653: RuntimeWarning: divide by zero encountered in true_divide\n",
      "  other_uncert.parent_nddata.data**4)\n",
      "/Users/oguzhan/workspace/PythonProjects/astro/venv/lib/python3.7/site-packages/astropy/nddata/nduncertainty.py:653: RuntimeWarning: invalid value encountered in true_divide\n",
      "  other_uncert.parent_nddata.data**4)\n"
     ]
    }
   ],
   "source": [
    "convert_to_fits(reduced_ccds, filenames=filenames, prefix='bdf_')"
   ]
  },
  {
   "cell_type": "code",
   "execution_count": null,
   "metadata": {},
   "outputs": [],
   "source": []
  }
 ],
 "metadata": {
  "kernelspec": {
   "display_name": "Python 3",
   "language": "python",
   "name": "python3"
  },
  "language_info": {
   "codemirror_mode": {
    "name": "ipython",
    "version": 3
   },
   "file_extension": ".py",
   "mimetype": "text/x-python",
   "name": "python",
   "nbconvert_exporter": "python",
   "pygments_lexer": "ipython3",
   "version": "3.7.0"
  }
 },
 "nbformat": 4,
 "nbformat_minor": 2
}
