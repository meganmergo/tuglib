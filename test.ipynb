{
 "cells": [
  {
   "cell_type": "code",
   "execution_count": null,
   "metadata": {},
   "outputs": [],
   "source": [
    "%matplotlib inline"
   ]
  },
  {
   "cell_type": "code",
   "execution_count": null,
   "metadata": {},
   "outputs": [],
   "source": [
    "from tuglib.io import FitsCollection, convert_to_fits\n",
    "from tuglib.reduction import bias_combine, flat_combine, ccdproc"
   ]
  },
  {
   "cell_type": "code",
   "execution_count": null,
   "metadata": {},
   "outputs": [],
   "source": [
    "location = '/Users/oguzhan/tmp/20180901N'\n",
    "masks = ['[:, 1023:1025]', '[:1023, 56:58]']\n",
    "trim = '[:, 24:2023]'"
   ]
  },
  {
   "cell_type": "code",
   "execution_count": null,
   "metadata": {},
   "outputs": [],
   "source": [
    "c = FitsCollection(location, gain=0.37, read_noise=4.11)"
   ]
  },
  {
   "cell_type": "code",
   "execution_count": null,
   "metadata": {},
   "outputs": [],
   "source": [
    "bias_ccds = c.ccds(OBJECT='BIAS', trim=trim, masks=masks)\n",
    "flat_ccds = c.ccds(OBJECT='FLAT', FILTER='W1:03 V W2:00 Empty', trim=trim, masks=masks)"
   ]
  },
  {
   "cell_type": "code",
   "execution_count": null,
   "metadata": {},
   "outputs": [],
   "source": [
    "master_bias = bias_combine(bias_ccds, method='median')\n",
    "master_flat = flat_combine(flat_ccds, master_bias, method='median')"
   ]
  },
  {
   "cell_type": "code",
   "execution_count": null,
   "metadata": {},
   "outputs": [],
   "source": [
    "filenames = c.files_filtered(OBJECT='V2477Cyg', FILTER='W1:03 V W2:00 Empty')\n",
    "sci_ccds = c.ccds(OBJECT='V2477Cyg', FILTER='W1:03 V W2:00 Empty', trim=trim, masks=masks)"
   ]
  },
  {
   "cell_type": "code",
   "execution_count": null,
   "metadata": {},
   "outputs": [],
   "source": [
    "reduced_ccds = ccdproc(sci_ccds, master_bias=master_bias, master_flat=master_flat)"
   ]
  },
  {
   "cell_type": "code",
   "execution_count": null,
   "metadata": {},
   "outputs": [],
   "source": [
    "convert_to_fits(reduced_ccds, filenames=filenames, prefix='bdf_')"
   ]
  },
  {
   "cell_type": "code",
   "execution_count": null,
   "metadata": {},
   "outputs": [],
   "source": []
  }
 ],
 "metadata": {
  "kernelspec": {
   "display_name": "Python 3",
   "language": "python",
   "name": "python3"
  },
  "language_info": {
   "codemirror_mode": {
    "name": "ipython",
    "version": 3
   },
   "file_extension": ".py",
   "mimetype": "text/x-python",
   "name": "python",
   "nbconvert_exporter": "python",
   "pygments_lexer": "ipython3",
   "version": "3.7.0"
  }
 },
 "nbformat": 4,
 "nbformat_minor": 2
}
